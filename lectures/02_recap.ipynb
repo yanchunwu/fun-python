{
 "cells": [
  {
   "cell_type": "markdown",
   "metadata": {},
   "source": [
    "# <div align=\"center\">Strings and Print Reviews</div>"
   ]
  },
  {
   "cell_type": "markdown",
   "metadata": {},
   "source": [
    "## Python Strings"
   ]
  },
  {
   "cell_type": "code",
   "execution_count": 1,
   "metadata": {},
   "outputs": [
    {
     "name": "stdout",
     "output_type": "stream",
     "text": [
      "Hello\n",
      "Hello\n",
      "I'm your friend\n",
      "This is a multiple line strings\n",
      "My todo list\n",
      "1) have a good breakfirst\n",
      "2) have a good lunch\n",
      "3) have a good dinner\n",
      "\n",
      "My name is Wukong Sun\n",
      "My name is Wukong Sun\n"
     ]
    }
   ],
   "source": [
    "print(\"Hello\") # double quotation string\n",
    "print('Hello') # single quotation string\n",
    "print(\"I'm your friend\") # single quotation inside double quotation\n",
    "msg = \"\"\"This is a multiple line strings\n",
    "My todo list\n",
    "1) have a good breakfirst\n",
    "2) have a good lunch\n",
    "3) have a good dinner\n",
    "\"\"\"\n",
    "print(msg)\n"
   ]
  },
  {
   "cell_type": "markdown",
   "metadata": {},
   "source": [
    "### Assign String to a VariableAssigning a string to a variable is done with the variable name followed by an equal sign and the string:"
   ]
  },
  {
   "cell_type": "code",
   "execution_count": 2,
   "metadata": {},
   "outputs": [
    {
     "name": "stdout",
     "output_type": "stream",
     "text": [
      "My name is Wukong Sun\n",
      "My name is Wukong Sun\n",
      "My name is Wukong Sun\n"
     ]
    }
   ],
   "source": [
    "last_name = \"Sun\"        # assign string to a variable \n",
    "first_name = \"Wukong\"\n",
    "print(\"My name is \" + first_name + \" \" + last_name)\n",
    "print(\"My name is {} {}\".format(first_name, last_name))\n",
    "print(f\"My name is {first_name} {last_name}\")"
   ]
  },
  {
   "cell_type": "markdown",
   "metadata": {},
   "source": [
    "### Mix string and integer"
   ]
  },
  {
   "cell_type": "code",
   "execution_count": 6,
   "metadata": {},
   "outputs": [
    {
     "name": "stdout",
     "output_type": "stream",
     "text": [
      "My age is 14\n",
      "My age is 14\n",
      "My age is 14\n",
      "My age is 14\n"
     ]
    }
   ],
   "source": [
    "age = 14\n",
    "print(\"My age is \" + age)  # type error, can't add string to int\n",
    "print(\"My age is \" + str(age)) # convert age to str\n",
    "print(\"My age is %d\"% age)\n",
    "print(\"My age is {}\".format(age))\n",
    "print(f\"My age is {age}\")"
   ]
  },
  {
   "cell_type": "code",
   "execution_count": 21,
   "metadata": {
    "scrolled": true
   },
   "outputs": [
    {
     "name": "stdout",
     "output_type": "stream",
     "text": [
      "Hello\n",
      "True\n",
      "True\n"
     ]
    }
   ],
   "source": [
    "a = \"Hello\"\n",
    "b = 'Hello'\n",
    "print(a is b)\n",
    "print(a==b)"
   ]
  },
  {
   "cell_type": "markdown",
   "metadata": {},
   "source": [
    "### Strings are arrays"
   ]
  },
  {
   "cell_type": "markdown",
   "metadata": {},
   "source": [
    "**Index Graph**\n",
    "\n",
    "![Slice Index](images/slicing_index.png)"
   ]
  },
  {
   "cell_type": "code",
   "execution_count": null,
   "metadata": {},
   "outputs": [],
   "source": [
    "name = \"Donald Trump\"\n",
    "# Donald Trump\n",
    "# 012345678901\n",
    "# first_name = name[]\n",
    "# last_name = name[]\n",
    "print(\"US's 45th president is {}\".format(name))\n",
    "\n",
    "# all CAPs\n",
    "print(name.upper())\n",
    "print(f\"US's 45th president is {name.upper()}\")\n",
    "\n",
    "# negative index\n",
    "last_letter = name[-1]"
   ]
  },
  {
   "cell_type": "code",
   "execution_count": 28,
   "metadata": {},
   "outputs": [
    {
     "name": "stdout",
     "output_type": "stream",
     "text": [
      "The 46th's US president is Wukong Biden\n"
     ]
    }
   ],
   "source": [
    "last_name = \"Biden\"\n",
    "new_president_name = first_name + \" \" + last_name\n",
    "print(f\"The 46th's US president is {new_president_name}\")"
   ]
  },
  {
   "cell_type": "markdown",
   "metadata": {},
   "source": [
    "### String Methods\n",
    "Python has a set of built-in methods that you can use on strings."
   ]
  },
  {
   "cell_type": "markdown",
   "metadata": {},
   "source": [
    "The `strip()` method removes any whitespace from the beginning or the end:"
   ]
  },
  {
   "cell_type": "code",
   "execution_count": 7,
   "metadata": {},
   "outputs": [
    {
     "name": "stdout",
     "output_type": "stream",
     "text": [
      "president@whitehouse.gov\n",
      "president@whitehouse.gov\n",
      "Hello, World!\n"
     ]
    }
   ],
   "source": [
    "email = \"   president@whitehouse.gov  \"\n",
    "email = email.strip()\n",
    "print(email)\n",
    "print(email.lower())\n",
    "a = \" Hello, World! \"\n",
    "print(a.strip()) # returns \"Hello, World!\" "
   ]
  },
  {
   "cell_type": "markdown",
   "metadata": {},
   "source": [
    "The `lower()` method returns the string in lower case:"
   ]
  },
  {
   "cell_type": "code",
   "execution_count": null,
   "metadata": {},
   "outputs": [],
   "source": [
    "a = \"Hello, World!\"\n",
    "print(a.lower())"
   ]
  },
  {
   "cell_type": "markdown",
   "metadata": {},
   "source": [
    "The `upper()` method returns the string in upper case:"
   ]
  },
  {
   "cell_type": "code",
   "execution_count": null,
   "metadata": {},
   "outputs": [],
   "source": [
    "a = \"Hello, World!\"\n",
    "print(a.upper())"
   ]
  },
  {
   "cell_type": "markdown",
   "metadata": {},
   "source": [
    "The `replace()` method replaces a string with another string:"
   ]
  },
  {
   "cell_type": "code",
   "execution_count": 55,
   "metadata": {},
   "outputs": [
    {
     "name": "stdout",
     "output_type": "stream",
     "text": [
      "Jello, World!\n"
     ]
    }
   ],
   "source": [
    "a = \"Hello, World!\"\n",
    "print(a.replace(\"H\", \"J\"))"
   ]
  },
  {
   "cell_type": "code",
   "execution_count": 56,
   "metadata": {},
   "outputs": [
    {
     "name": "stdout",
     "output_type": "stream",
     "text": [
      "Lei Wu\n"
     ]
    }
   ],
   "source": [
    "name = \"Donald Trump\"\n",
    "print(name.replace(\"Trump\", \"Biden\"))"
   ]
  },
  {
   "cell_type": "markdown",
   "metadata": {},
   "source": [
    "The `split()` method splits the string into substrings if it finds instances of the separator:"
   ]
  },
  {
   "cell_type": "code",
   "execution_count": null,
   "metadata": {},
   "outputs": [],
   "source": [
    "a = \"Hello, World!\"\n",
    "# split returns a list\n",
    "print(a.split(\",\")) # returns ['Hello', ' World!'] "
   ]
  },
  {
   "cell_type": "code",
   "execution_count": 13,
   "metadata": {},
   "outputs": [
    {
     "name": "stdout",
     "output_type": "stream",
     "text": [
      "1600 Pennsylvania Ave NW, Washington, DC 20500\n",
      "['1600 Pennsylvania Ave NW', ' Washington', ' DC 20500']\n",
      "<class 'list'>\n",
      "<class 'str'>\n",
      "['Washington']\n",
      "['DC', '20500']\n"
     ]
    }
   ],
   "source": [
    "address = \"1600 Pennsylvania Ave NW, Washington, DC 20500\"\n",
    "print(address)\n",
    "address_items = address.split(\",\")\n",
    "print(address_items)\n",
    "# city sharon has space, remove it\n",
    "# address_items[1] = address_items[1].strip()\n",
    "# address_items[2] = address_items[2].strip()\n",
    "# address_items[3] = address_items[3].strip()\n",
    "\n",
    "for item in address_items[1:4]:\n",
    "    print(item.split())\n",
    "# print(address_items)"
   ]
  },
  {
   "cell_type": "code",
   "execution_count": 16,
   "metadata": {},
   "outputs": [
    {
     "data": {
      "text/plain": [
       "[('1600', 'AddressNumber'),\n",
       " ('Pennsylvania', 'StreetName'),\n",
       " ('Ave', 'StreetNamePostType'),\n",
       " ('NW,', 'StreetNamePostDirectional'),\n",
       " ('Washington,', 'PlaceName'),\n",
       " ('DC', 'StateName'),\n",
       " ('20500', 'ZipCode')]"
      ]
     },
     "execution_count": 16,
     "metadata": {},
     "output_type": "execute_result"
    }
   ],
   "source": [
    "import usaddress  # if the package is missing, \n",
    "                  # run `pip3 install usaddress`\n",
    "usaddress.parse(address)"
   ]
  },
  {
   "cell_type": "markdown",
   "metadata": {},
   "source": [
    "### String Concatenation"
   ]
  },
  {
   "cell_type": "markdown",
   "metadata": {},
   "source": [
    "To concatenate, or combine, two strings you can use the + operator."
   ]
  },
  {
   "cell_type": "markdown",
   "metadata": {},
   "source": [
    "Merge variable a with variable b into variable c:"
   ]
  },
  {
   "cell_type": "code",
   "execution_count": null,
   "metadata": {},
   "outputs": [],
   "source": [
    "a = \"Hello\"\n",
    "b = \"World\"\n",
    "c = a + \" \" + b\n",
    "print(c)"
   ]
  },
  {
   "cell_type": "markdown",
   "metadata": {},
   "source": [
    "### String Format"
   ]
  },
  {
   "cell_type": "markdown",
   "metadata": {},
   "source": [
    "## Print Statement"
   ]
  },
  {
   "cell_type": "markdown",
   "metadata": {},
   "source": [
    "As we learned in the Python Variables chapter, we cannot combine strings and numbers like this:"
   ]
  },
  {
   "cell_type": "code",
   "execution_count": null,
   "metadata": {},
   "outputs": [],
   "source": [
    "age = 36\n",
    "txt = \"My name is John, I am \" + age\n",
    "print(txt)"
   ]
  },
  {
   "cell_type": "markdown",
   "metadata": {},
   "source": [
    "But we can combine strings and numbers by using the format() method!\n",
    "\n",
    "The format() method takes the passed arguments, formats them, and places them in the string where the placeholders {} are:"
   ]
  },
  {
   "cell_type": "markdown",
   "metadata": {},
   "source": [
    "Use the format() method to insert numbers into strings:"
   ]
  },
  {
   "cell_type": "markdown",
   "metadata": {},
   "source": [
    "The format() method takes unlimited number of arguments, and are placed into the respective placeholders:"
   ]
  },
  {
   "cell_type": "code",
   "execution_count": null,
   "metadata": {},
   "outputs": [],
   "source": [
    "quantity = 3\n",
    "itemno = 567\n",
    "price = 49.95\n",
    "myorder = \"I want to pay {2} dollars for {0} pieces of item {1}.\"\n",
    "print(myorder.format(quantity, itemno, price))"
   ]
  },
  {
   "cell_type": "markdown",
   "metadata": {},
   "source": [
    "The **print** statement can be used in the following different ways :\n",
    "\n",
    "    - print(\"Hello World\")\n",
    "    - print(\"Hello\", <Variable Containing the String>)\n",
    "    - print(\"Hello\" + <Variable Containing the String>)\n",
    "    - print(\"Hello %s\" % <variable containing the string>)\n",
    "    - print(\"Hello {}\".format(string variable))\n",
    "    - print(f\"Hello {string variable}\") "
   ]
  },
  {
   "cell_type": "markdown",
   "metadata": {},
   "source": [
    "In Python, single, double and triple quotes are used to denote a string.\n",
    "Most use single quotes when declaring a single character. \n",
    "Double quotes when declaring a line and triple quotes when declaring a paragraph/multiple lines."
   ]
  },
  {
   "cell_type": "markdown",
   "metadata": {},
   "source": [
    "Similarly, when using other data types\n",
    "\n",
    "    - %s -> string\n",
    "    - %d -> Integer\n",
    "    - %f -> Float\n",
    "    - %o -> Octal\n",
    "    - %x -> Hexadecimal\n",
    "    - %e -> exponential\n",
    "    \n",
    "This can be used for conversions inside the print statement itself."
   ]
  },
  {
   "cell_type": "code",
   "execution_count": 26,
   "metadata": {},
   "outputs": [
    {
     "name": "stdout",
     "output_type": "stream",
     "text": [
      "Biden's actual age in decimal = 77\n",
      "Biden's age in binary : 1001101\n",
      "Biden's age in octal : 115\n",
      "Biden's age in Hexadecimal : 4d\n",
      "Biden's age in exponential : 7.700000e+01\n",
      "Biden's age in float : 77.000000\n"
     ]
    }
   ],
   "source": [
    "biden_age = 77\n",
    "donald_age = 73\n",
    "print(\"Biden's actual age in decimal = {}\".format(biden_age))\n",
    "print(\"Biden's age in binary : {0:b}\".format(biden_age))\n",
    "print(\"Biden's age in octal : {0:o}\".format(biden_age))\n",
    "print(\"Biden's age in Hexadecimal : {0:x}\".format(biden_age))\n",
    "print(\"Biden's age in exponential : {0:e}\".format(biden_age))\n",
    "print(\"Biden's age in float : {0:f}\".format(biden_age))"
   ]
  },
  {
   "cell_type": "code",
   "execution_count": null,
   "metadata": {},
   "outputs": [],
   "source": [
    "# exercise\n",
    "# print the 45th president's age in different number systems\n",
    "# binary, octal, hexadecimal, decimal\n",
    "donald_age = 73"
   ]
  },
  {
   "cell_type": "markdown",
   "metadata": {},
   "source": [
    "When referring to multiple variables parenthesis is used."
   ]
  },
  {
   "cell_type": "markdown",
   "metadata": {},
   "source": [
    "#PrecisionWidth and FieldWidth"
   ]
  },
  {
   "cell_type": "code",
   "execution_count": 19,
   "metadata": {},
   "outputs": [
    {
     "data": {
      "text/plain": [
       "'3.141593'"
      ]
     },
     "execution_count": 19,
     "metadata": {},
     "output_type": "execute_result"
    }
   ],
   "source": [
    "\"%f\" % 3.14159265358979323846"
   ]
  },
  {
   "cell_type": "code",
   "execution_count": 20,
   "metadata": {},
   "outputs": [
    {
     "data": {
      "text/plain": [
       "'  3.14159'"
      ]
     },
     "execution_count": 20,
     "metadata": {},
     "output_type": "execute_result"
    }
   ],
   "source": [
    "\"%9.5f\" % 3.14159265358979323846"
   ]
  },
  {
   "cell_type": "markdown",
   "metadata": {},
   "source": [
    "Notice upto 6 decimal points are returned. To specify the number of decimal points, '%(fieldwidth).(precisionwidth)f' is used."
   ]
  }
 ],
 "metadata": {
  "kernelspec": {
   "display_name": "Python 3",
   "language": "python",
   "name": "python3"
  },
  "language_info": {
   "codemirror_mode": {
    "name": "ipython",
    "version": 3
   },
   "file_extension": ".py",
   "mimetype": "text/x-python",
   "name": "python",
   "nbconvert_exporter": "python",
   "pygments_lexer": "ipython3",
   "version": "3.6.9"
  }
 },
 "nbformat": 4,
 "nbformat_minor": 1
}
